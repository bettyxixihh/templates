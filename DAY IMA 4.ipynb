{
  "nbformat": 4,
  "nbformat_minor": 0,
  "metadata": {
    "colab": {
      "name": "Olympic",
      "provenance": [],
      "collapsed_sections": [],
      "authorship_tag": "ABX9TyPhDblZLws8UyJpTAqFukXt",
      "include_colab_link": true
    },
    "kernelspec": {
      "name": "python3",
      "display_name": "Python 3"
    },
    "language_info": {
      "name": "python"
    }
  },
  "cells": [
    {
      "cell_type": "markdown",
      "metadata": {
        "id": "view-in-github",
        "colab_type": "text"
      },
      "source": [
        "<a href=\"https://colab.research.google.com/github/bettyxixihh/templates/blob/main/DAY%20IMA%204.ipynb\" target=\"_parent\"><img src=\"https://colab.research.google.com/assets/colab-badge.svg\" alt=\"Open In Colab\"/></a>"
      ]
    },
    {
      "cell_type": "code",
      "execution_count": null,
      "metadata": {
        "colab": {
          "base_uri": "https://localhost:8080/"
        },
        "id": "Yk6dc48TL1zC",
        "outputId": "98f21b8d-e7c7-4f22-8c3a-82ec6a939851"
      },
      "outputs": [
        {
          "output_type": "stream",
          "name": "stdout",
          "text": [
            "Requirement already satisfied: flask-ngrok in /usr/local/lib/python3.7/dist-packages (0.0.25)\n",
            "Requirement already satisfied: Flask>=0.8 in /usr/local/lib/python3.7/dist-packages (from flask-ngrok) (1.1.4)\n",
            "Requirement already satisfied: requests in /usr/local/lib/python3.7/dist-packages (from flask-ngrok) (2.23.0)\n",
            "Requirement already satisfied: Werkzeug<2.0,>=0.15 in /usr/local/lib/python3.7/dist-packages (from Flask>=0.8->flask-ngrok) (1.0.1)\n",
            "Requirement already satisfied: Jinja2<3.0,>=2.10.1 in /usr/local/lib/python3.7/dist-packages (from Flask>=0.8->flask-ngrok) (2.11.3)\n",
            "Requirement already satisfied: click<8.0,>=5.1 in /usr/local/lib/python3.7/dist-packages (from Flask>=0.8->flask-ngrok) (7.1.2)\n",
            "Requirement already satisfied: itsdangerous<2.0,>=0.24 in /usr/local/lib/python3.7/dist-packages (from Flask>=0.8->flask-ngrok) (1.1.0)\n",
            "Requirement already satisfied: MarkupSafe>=0.23 in /usr/local/lib/python3.7/dist-packages (from Jinja2<3.0,>=2.10.1->Flask>=0.8->flask-ngrok) (2.0.1)\n",
            "Requirement already satisfied: idna<3,>=2.5 in /usr/local/lib/python3.7/dist-packages (from requests->flask-ngrok) (2.10)\n",
            "Requirement already satisfied: certifi>=2017.4.17 in /usr/local/lib/python3.7/dist-packages (from requests->flask-ngrok) (2021.10.8)\n",
            "Requirement already satisfied: urllib3!=1.25.0,!=1.25.1,<1.26,>=1.21.1 in /usr/local/lib/python3.7/dist-packages (from requests->flask-ngrok) (1.24.3)\n",
            "Requirement already satisfied: chardet<4,>=3.0.2 in /usr/local/lib/python3.7/dist-packages (from requests->flask-ngrok) (3.0.4)\n",
            "Requirement already satisfied: pyngrok in /usr/local/lib/python3.7/dist-packages (5.1.0)\n",
            "Requirement already satisfied: PyYAML in /usr/local/lib/python3.7/dist-packages (from pyngrok) (3.13)\n",
            "Requirement already satisfied: flask-wtf in /usr/local/lib/python3.7/dist-packages (1.0.0)\n",
            "Requirement already satisfied: itsdangerous in /usr/local/lib/python3.7/dist-packages (from flask-wtf) (1.1.0)\n",
            "Requirement already satisfied: Flask in /usr/local/lib/python3.7/dist-packages (from flask-wtf) (1.1.4)\n",
            "Requirement already satisfied: WTForms in /usr/local/lib/python3.7/dist-packages (from flask-wtf) (3.0.1)\n",
            "Requirement already satisfied: click<8.0,>=5.1 in /usr/local/lib/python3.7/dist-packages (from Flask->flask-wtf) (7.1.2)\n",
            "Requirement already satisfied: Jinja2<3.0,>=2.10.1 in /usr/local/lib/python3.7/dist-packages (from Flask->flask-wtf) (2.11.3)\n",
            "Requirement already satisfied: Werkzeug<2.0,>=0.15 in /usr/local/lib/python3.7/dist-packages (from Flask->flask-wtf) (1.0.1)\n",
            "Requirement already satisfied: MarkupSafe>=0.23 in /usr/local/lib/python3.7/dist-packages (from Jinja2<3.0,>=2.10.1->Flask->flask-wtf) (2.0.1)\n",
            "Authtoken saved to configuration file: /root/.ngrok2/ngrok.yml\n"
          ]
        }
      ],
      "source": [
        "!pip install flask-ngrok\n",
        "!pip install pyngrok\n",
        "!pip install flask-wtf\n",
        "\n",
        "!ngrok authtoken \"26BvhaR6hOuuXZtQIY0U559pWy0_2NfyUTTQxo8V7WZz5LZan\""
      ]
    },
    {
      "cell_type": "code",
      "source": [
        "!git clone \"https://github.com/bettyxixihh/templates\""
      ],
      "metadata": {
        "colab": {
          "base_uri": "https://localhost:8080/"
        },
        "id": "4dIPc8mcMH_w",
        "outputId": "2329d6af-2a7a-4aac-a761-0901cd6cab0c"
      },
      "execution_count": null,
      "outputs": [
        {
          "output_type": "stream",
          "name": "stdout",
          "text": [
            "fatal: destination path 'templates' already exists and is not an empty directory.\n"
          ]
        }
      ]
    },
    {
      "cell_type": "code",
      "source": [
        "import os\n",
        "os.chdir(\"/content/templates\")"
      ],
      "metadata": {
        "id": "CJKmloVNWDtO"
      },
      "execution_count": null,
      "outputs": []
    },
    {
      "cell_type": "code",
      "source": [
        "from flask import *\n",
        "from flask_ngrok import run_with_ngrok\n",
        "\n",
        "app = Flask(__name__, static_folder='static')\n",
        "\n",
        "app_data = {\n",
        "    \"name\":         \"Peter's Starter Template for a Flask Web App\",\n",
        "    \"description\":  \"A basic Flask app using bootstrap for layout\",\n",
        "    \"author\":       \"Peter Simeth\",\n",
        "    \"html_title\":   \"Peter's Starter Template for a Flask Web App\",\n",
        "    \"project_name\": \"Starter Template\",\n",
        "    \"keywords\":     \"flask, webapp, template, basic\"\n",
        "}\n",
        "\n",
        "\n",
        "@app.route('/')\n",
        "def index():\n",
        "    return render_template('index.html', app_data=app_data)\n",
        "\n",
        "run_with_ngrok(app)\n",
        "app.run()"
      ],
      "metadata": {
        "id": "8Nc3hXywWMjq",
        "colab": {
          "base_uri": "https://localhost:8080/"
        },
        "outputId": "d832e175-56dd-4396-9484-644080dd056f"
      },
      "execution_count": null,
      "outputs": [
        {
          "output_type": "stream",
          "name": "stdout",
          "text": [
            " * Serving Flask app \"__main__\" (lazy loading)\n",
            " * Environment: production\n",
            "\u001b[31m   WARNING: This is a development server. Do not use it in a production deployment.\u001b[0m\n",
            "\u001b[2m   Use a production WSGI server instead.\u001b[0m\n",
            " * Debug mode: off\n"
          ]
        },
        {
          "output_type": "stream",
          "name": "stderr",
          "text": [
            " * Running on http://127.0.0.1:5000/ (Press CTRL+C to quit)\n"
          ]
        },
        {
          "output_type": "stream",
          "name": "stdout",
          "text": [
            " * Running on http://1cab-35-229-113-149.ngrok.io\n",
            " * Traffic stats available on http://127.0.0.1:4040\n"
          ]
        },
        {
          "output_type": "stream",
          "name": "stderr",
          "text": [
            "127.0.0.1 - - [11/Mar/2022 10:15:40] \"\u001b[37mGET / HTTP/1.1\u001b[0m\" 200 -\n",
            "127.0.0.1 - - [11/Mar/2022 10:15:41] \"\u001b[37mGET / HTTP/1.1\u001b[0m\" 200 -\n",
            "127.0.0.1 - - [11/Mar/2022 10:15:42] \"\u001b[33mGET /static/imgage4.jpg HTTP/1.1\u001b[0m\" 404 -\n",
            "127.0.0.1 - - [11/Mar/2022 10:15:42] \"\u001b[37mGET /static/style.css HTTP/1.1\u001b[0m\" 200 -\n",
            "127.0.0.1 - - [11/Mar/2022 10:15:42] \"\u001b[33mGET /image1.jpg HTTP/1.1\u001b[0m\" 404 -\n",
            "127.0.0.1 - - [11/Mar/2022 10:15:42] \"\u001b[37mGET /static/top%20picture.png HTTP/1.1\u001b[0m\" 200 -\n",
            "127.0.0.1 - - [11/Mar/2022 10:15:42] \"\u001b[33mGET /static/imgage2.jpg HTTP/1.1\u001b[0m\" 404 -\n",
            "127.0.0.1 - - [11/Mar/2022 10:15:42] \"\u001b[33mGET /static/imgage3.jpg HTTP/1.1\u001b[0m\" 404 -\n",
            "127.0.0.1 - - [11/Mar/2022 10:15:43] \"\u001b[37mGET /static/Hanyu%20Yuzuru.jpg HTTP/1.1\u001b[0m\" 200 -\n",
            "127.0.0.1 - - [11/Mar/2022 10:15:43] \"\u001b[37mGET /static/Ailing%20Gu.jpg HTTP/1.1\u001b[0m\" 200 -\n",
            "127.0.0.1 - - [11/Mar/2022 10:15:45] \"\u001b[37mGET / HTTP/1.1\u001b[0m\" 200 -\n",
            "127.0.0.1 - - [11/Mar/2022 10:15:45] \"\u001b[37mGET /static/style.css HTTP/1.1\u001b[0m\" 200 -\n",
            "127.0.0.1 - - [11/Mar/2022 10:15:45] \"\u001b[37mGET /static/top%20picture.png HTTP/1.1\u001b[0m\" 200 -\n",
            "127.0.0.1 - - [11/Mar/2022 10:15:45] \"\u001b[33mGET /static/imgage2.jpg HTTP/1.1\u001b[0m\" 404 -\n",
            "127.0.0.1 - - [11/Mar/2022 10:15:45] \"\u001b[33mGET /image1.jpg HTTP/1.1\u001b[0m\" 404 -\n",
            "127.0.0.1 - - [11/Mar/2022 10:15:45] \"\u001b[33mGET /static/imgage3.jpg HTTP/1.1\u001b[0m\" 404 -\n",
            "127.0.0.1 - - [11/Mar/2022 10:15:45] \"\u001b[33mGET /static/imgage4.jpg HTTP/1.1\u001b[0m\" 404 -\n",
            "127.0.0.1 - - [11/Mar/2022 10:15:45] \"\u001b[37mGET /static/Ailing%20Gu.jpg HTTP/1.1\u001b[0m\" 200 -\n",
            "127.0.0.1 - - [11/Mar/2022 10:15:46] \"\u001b[37mGET /static/Hanyu%20Yuzuru.jpg HTTP/1.1\u001b[0m\" 200 -\n",
            "127.0.0.1 - - [11/Mar/2022 10:15:46] \"\u001b[33mGET /favicon.ico HTTP/1.1\u001b[0m\" 404 -\n"
          ]
        }
      ]
    }
  ]
}